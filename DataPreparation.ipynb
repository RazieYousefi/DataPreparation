{
 "cells": [
  {
   "cell_type": "markdown",
   "metadata": {},
   "source": [
    "#####  Step 1: Import Libraries"
   ]
  },
  {
   "cell_type": "code",
   "execution_count": 1,
   "metadata": {},
   "outputs": [],
   "source": [
    "import numpy as np\n",
    "import pandas as pd\n",
    "import matplotlib.pyplot as plt\n",
    "import seaborn as sns\n",
    "import warnings\n",
    "\n",
    "import requests"
   ]
  },
  {
   "cell_type": "markdown",
   "metadata": {},
   "source": [
    "##### Step 2: Rea the Dataset using URL "
   ]
  },
  {
   "cell_type": "code",
   "execution_count": 3,
   "metadata": {},
   "outputs": [
    {
     "data": {
      "text/plain": [
       "{'Content-Type': 'text/html; charset=utf-8', 'Date': 'Sun, 11 Aug 2024 21:59:00 GMT', 'Cache-Control': 'no-cache, no-store', 'Content-Encoding': 'gzip', 'Pragma': 'no-cache', 'Set-Cookie': 'ka_sessionid=da6e048698a48f0e22539ec91b227f5d; max-age=2626560; path=/, CSRF-TOKEN=CfDJ8KYuHWNamC1InhMNNsTMbrqz934xJ4S8sJ89yks_bIStjhwJI_CSFrAxbL63ZAfM91WCgMVwTJcB5xk1kKVcCgQ_FGkHio1RyLC8Npb-mw; path=/; secure; samesite=lax; httponly, XSRF-TOKEN=CfDJ8KYuHWNamC1InhMNNsTMbrq9m6N5JhWsEV-ROV0jDgnDEiGzfGPa6jVpHutwR5OJKigyfPImysGal9pqGG12mccirYtsdponR2aIZWVK_j4uJA; path=/; secure; samesite=lax, CLIENT-TOKEN=eyJhbGciOiJub25lIiwidHlwIjoiSldUIn0.eyJpc3MiOiJrYWdnbGUiLCJhdWQiOiJjbGllbnQiLCJzdWIiOiIiLCJuYnQiOiIyMDI0LTA4LTExVDIxOjU5OjAwLjkyMzAzNTVaIiwiaWF0IjoiMjAyNC0wOC0xMVQyMTo1OTowMC45MjMwMzU1WiIsImp0aSI6IjljYzNlYzU0LTc2NTUtNDJkMy1iOTRmLTY5YjAzMzBmMDFjZCIsImV4cCI6IjIwMjQtMDktMTFUMjE6NTk6MDAuOTIzMDM1NVoiLCJhbm9uIjp0cnVlLCJmZiI6WyJLZXJuZWxzRWRpdG9yVGFibGVPZkNvbnRlbnRzIiwiS2VybmVsc0RhdGFFeHBsb3JlclRhYlZpZXdzIiwiS2VybmVsc0NlbGxDb250ZXh0TWVudSIsIktlcm5lbHNLbURlZmVycmVkRWRpdG9yTWVudXMiLCJLZXJuZWxzRWRpdG9yQ29tbWFuZFBhbGV0dGUiLCJLZXJuZWxzRmlyZWJhc2VMb25nUG9sbGluZyIsIkFsbG93Rm9ydW1BdHRhY2htZW50cyIsIktlcm5lbEVkaXRvckFkZE9uc1BhbmVsIiwiRnJvbnRlbmRFcnJvclJlcG9ydGluZyIsIlJlZ2lzdHJhdGlvbk5ld3NFbWFpbFNpZ251cElzT3B0T3V0IiwiRGlzY3Vzc2lvbnNSZWFjdGlvbnMiLCJEYXRhc2V0VXBsb2FkZXJEdXBsaWNhdGVEZXRlY3Rpb24iLCJDb21wZXRpdGlvbkNlcnRpZmljYXRlcyIsIktlcm5lbHNJbnB1dFdpZGdldE5ld1ZlcnNpb24iLCJNZXRhc3RvcmVDaGVja0FnZ3JlZ2F0ZUZpbGVIYXNoZXMiLCJNb2RlbHNVcGxvYWRQYW5lbCIsIkNoZWNrRWZmaWNpZW50RXh0ZW5zaW9ucyIsIlVzZXJMaWNlbnNlQWdyZWVtZW50U3RhbGVuZXNzVHJhY2tpbmciLCJNVUlUZXh0RmllbGQiLCJNVUlTZWxlY3QiXSwiZmZkIjp7Iktlcm5lbEVkaXRvckF1dG9zYXZlVGhyb3R0bGVNcyI6IjMwMDAwIiwiRW1lcmdlbmN5QWxlcnRCYW5uZXIiOiJ7fSIsIkNsaWVudFJwY1JhdGVMaW1pdFFwcyI6IjQwIiwiQ2xpZW50UnBjUmF0ZUxpbWl0UXBtIjoiNTAwIiwiRmVhdHVyZWRDb21tdW5pdHlDb21wZXRpdGlvbnMiOiI2MDA5NSw1NDAwMCw1NzE2Myw4MDg3NCw4MTc4Niw4MTcwNCIsIkFkZEZlYXR1cmVGbGFnc1RvUGFnZUxvYWRUYWciOiJkaXNhYmxlZCIsIk1vZGVsSW5mZXJlbmNlUGFyYW1ldGVycyI6InsgXCJtYXhfdG9rZW5zXCI6IDEyOCwgXCJ0ZW1wZXJhdHVyZVwiOiAwLjQsIFwidG9wX2tcIjogNSB9IiwiQ29tcGV0aXRpb25NZXRyaWNUaW1lb3V0TWludXRlcyI6IjMwIn0sInBpZCI6ImthZ2dsZS0xNjE2MDciLCJzdmMiOiJ3ZWItZmUiLCJzZGFrIjoiQUl6YVN5QTRlTnFVZFJSc2tKc0NaV1Z6LXFMNjU1WGE1SkVNcmVFIiwiYmxkIjoiY2M3NzI0NWYyODVmNDkyMmM4NDU2NzUyMzA2YTcwMDg0NGE0ZTM0YyJ9.; path=/; secure; samesite=lax, GCLB=CPaMwNm5jLHkpAEQAw; path=/; HttpOnly', 'Vary': 'Accept-Encoding', 'X-Frame-Options': 'SAMEORIGIN', 'Strict-Transport-Security': 'max-age=63072000; includeSubDomains; preload', 'Content-Security-Policy': \"object-src 'none'; script-src 'nonce-rFYnpO/URsM9dkFFkoYycA==' 'report-sample' 'unsafe-inline' 'unsafe-eval' 'strict-dynamic' https: http:; base-uri 'none'; report-uri https://csp.withgoogle.com/csp/kaggle/20201130; frame-src 'self' https://www.kaggleusercontent.com https://www.youtube.com/embed/ https://polygraph-cool.github.io https://www.google.com/recaptcha/ https://www.docdroid.com https://www.docdroid.net https://kaggle-static.storage.googleapis.com https://kkb-production.jupyter-proxy.kaggle.net https://kkb-production.firebaseapp.com https://kaggle-metastore.firebaseapp.com https://apis.google.com https://content-sheets.googleapis.com/ https://accounts.google.com/ https://storage.googleapis.com https://docs.google.com https://drive.google.com https://calendar.google.com/ ;\", 'X-Content-Type-Options': 'nosniff', 'Referrer-Policy': 'strict-origin-when-cross-origin', 'Via': '1.1 google', 'Alt-Svc': 'h3=\":443\"; ma=2592000,h3-29=\":443\"; ma=2592000', 'Transfer-Encoding': 'chunked'}"
      ]
     },
     "execution_count": 3,
     "metadata": {},
     "output_type": "execute_result"
    }
   ],
   "source": [
    "#url = \"https://www..../download\"\n",
    "#data = requests.get(url)\n",
    "#data.headers\n",
    "\n"
   ]
  },
  {
   "cell_type": "code",
   "execution_count": null,
   "metadata": {},
   "outputs": [],
   "source": []
  }
 ],
 "metadata": {
  "kernelspec": {
   "display_name": "Python 3",
   "language": "python",
   "name": "python3"
  },
  "language_info": {
   "codemirror_mode": {
    "name": "ipython",
    "version": 3
   },
   "file_extension": ".py",
   "mimetype": "text/x-python",
   "name": "python",
   "nbconvert_exporter": "python",
   "pygments_lexer": "ipython3",
   "version": "3.9.12"
  }
 },
 "nbformat": 4,
 "nbformat_minor": 2
}
